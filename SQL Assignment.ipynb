{
 "cells": [
  {
   "cell_type": "code",
   "execution_count": 1,
   "id": "f22d8d79-9a80-43f5-a9d0-4825db272f91",
   "metadata": {},
   "outputs": [],
   "source": [
    "# import necessary libraries\n",
    "import pandas as pd\n",
    "import mysql.connector\n",
    "import numpy as np"
   ]
  },
  {
   "cell_type": "code",
   "execution_count": 2,
   "id": "ff7d9c1d-40b5-4cbd-8de3-52275edf1b38",
   "metadata": {},
   "outputs": [],
   "source": [
    "#MySQL database connection configuration\n",
    "db_config = {\n",
    "    'host': 'localhost',\n",
    "    'user': 'root',\n",
    "    'password':'J9&l;h32^!'\n",
    "}"
   ]
  },
  {
   "cell_type": "code",
   "execution_count": 4,
   "id": "d5e8f5b8-56c2-404f-b5b2-faa919567b0d",
   "metadata": {},
   "outputs": [],
   "source": [
    "#establish connection to mysql database\n",
    "conn = mysql.connector.connect(**db_config)"
   ]
  },
  {
   "cell_type": "code",
   "execution_count": 5,
   "id": "d78b67db-4032-4f8a-a934-36bb67fa0fe3",
   "metadata": {},
   "outputs": [],
   "source": [
    "#function to execute mysl queries\n",
    "def execute_query(query):\n",
    "    cursor = conn.cursor()\n",
    "    cursor.execute(query)\n",
    "    conn.commit()\n",
    "    cursor.close()"
   ]
  },
  {
   "cell_type": "code",
   "execution_count": 6,
   "id": "4b6f2632-b773-488b-af06-79b0a59d8d40",
   "metadata": {},
   "outputs": [],
   "source": [
    "# create edu_institute database if not exists\n",
    "create_db_query = \"CREATE DATABASE IF NOT EXISTS edu_institute;\"\n",
    "execute_query(create_db_query)"
   ]
  },
  {
   "cell_type": "code",
   "execution_count": 7,
   "id": "c4af2e24-0655-4bfe-be23-70f11fa99a21",
   "metadata": {},
   "outputs": [],
   "source": [
    "#use the database\n",
    "use_db_query = \"USE edu_institute;\"\n",
    "execute_query(use_db_query)"
   ]
  },
  {
   "cell_type": "code",
   "execution_count": 8,
   "id": "24621519-9fae-44fe-8f73-d35d57242e0b",
   "metadata": {},
   "outputs": [],
   "source": [
    "# create students table\n",
    "create_students_table_query = \"\"\"\n",
    "CREATE TABLE IF NOT EXISTS students (\n",
    "    student_id INT PRIMARY KEY,\n",
    "    name VARCHAR(50),\n",
    "    age INT,\n",
    "    gender CHAR(1),\n",
    "    enrollment_date DATE,\n",
    "    program VARCHAR(50)\n",
    ");\n",
    "\"\"\"\n",
    "execute_query(create_students_table_query)"
   ]
  },
  {
   "cell_type": "code",
   "execution_count": 9,
   "id": "abd4caa9-1ee9-478f-8405-b6173f8479dd",
   "metadata": {},
   "outputs": [],
   "source": [
    "#generate a sample data\n",
    "id = [1,2,3,4,5,6,7,8,9,10,11,12,13,14,15]\n",
    "names =['Joy Kariuki','Jane Kimani','Alexander Mutiso','Emily Muthoni','Michael Kimani','Sarah Wanjiku','David Mueke',\n",
    "        'Grace Ochieng', 'Daniel Baraka', 'Emma Njeri','Joy Scovia','Agnes Wendi','Risper Ndirangu','Patience Mwendwa','William Ruto']\n",
    "ages = [19,22,20,21,23,24,22,23,21,24,21,23,24,19,20]\n",
    "genders  = ['f','f','m','f','m','f','m','f','m','f','f','f','f','f','m']\n",
    "dates = ['2023-11-12','2022-09-05','2023-10-10','2022-03-20','2023-05-08','2022-07-12','2023-02-28','2021-11-05','2022-04-15',\n",
    "         '2023-06-10','2019-09-13', '2019-10-6','2021-09-05','2012-02-10','2022-08-23']\n",
    "courses = ['Computer Science','Physics','Data Science','Engineering','Engineering','Data Science','Computer Science','Data Science',\n",
    "           'Physics','Mathematics','Financial Engineering','Statistics','Data Science','Electrical Engineering','Taxation Engineering']"
   ]
  },
  {
   "cell_type": "code",
   "execution_count": 10,
   "id": "a7b4c432-9f00-4f32-8cab-1a18d558b468",
   "metadata": {},
   "outputs": [],
   "source": [
    "#create a dataframe for the created sample data\n",
    "sample_df = pd.DataFrame({\n",
    "    'student_id': id,\n",
    "    'name': names,\n",
    "    'age': ages,\n",
    "    'gender': genders,\n",
    "    'enrollment_date': dates,\n",
    "    'program': courses\n",
    "})"
   ]
  },
  {
   "cell_type": "code",
   "execution_count": 11,
   "id": "98984947-14fb-471f-b9d4-c031399a1953",
   "metadata": {},
   "outputs": [],
   "source": [
    "#load the cleaned data to the new database\n",
    "#insert cleaned data into mysql table\n",
    "for index, row in sample_df.iterrows():\n",
    "    insert_query = f\"\"\"\n",
    "    INSERT INTO students (student_id,name, age, gender, enrollment_date, program)\n",
    "    VALUES ('{row['student_id']}', '{row['name']}', {row['age']}, '{row['gender']}', '{row['enrollment_date']}', '{row['program']}')\n",
    "    \"\"\"\n",
    "\n",
    "    execute_query(insert_query)"
   ]
  },
  {
   "cell_type": "code",
   "execution_count": 12,
   "id": "89aced38-b6e7-40d2-a3c3-139322cc99fc",
   "metadata": {},
   "outputs": [
    {
     "name": "stderr",
     "output_type": "stream",
     "text": [
      "C:\\Users\\Admin\\AppData\\Local\\Temp\\ipykernel_20912\\2198689415.py:3: UserWarning: pandas only supports SQLAlchemy connectable (engine/connection) or database string URI or sqlite3 DBAPI2 connection. Other DBAPI2 objects are not tested. Please consider using SQLAlchemy.\n",
      "  students_df = pd.read_sql_query(view_query, conn)\n"
     ]
    },
    {
     "data": {
      "text/plain": [
       "(15, 6)"
      ]
     },
     "execution_count": 12,
     "metadata": {},
     "output_type": "execute_result"
    }
   ],
   "source": [
    "#get the data from the students table and display\n",
    "view_query = \"SELECT * FROM students\"\n",
    "students_df = pd.read_sql_query(view_query, conn)\n",
    "\n",
    "#view the top records students table\n",
    "students_df.head()\n",
    "\n",
    "# shape of the table\n",
    "students_df.shape"
   ]
  },
  {
   "cell_type": "code",
   "execution_count": 13,
   "id": "cba119a4-9673-4ecf-b279-6727f20e3b89",
   "metadata": {},
   "outputs": [
    {
     "name": "stdout",
     "output_type": "stream",
     "text": [
      "   student_id              name  age gender enrollment_date       program\n",
      "0           3  Alexander Mutiso   20      m      2023-10-10  Data Science\n",
      "1           6     Sarah Wanjiku   24      f      2022-07-12  Data Science\n",
      "2           8     Grace Ochieng   23      f      2021-11-05  Data Science\n",
      "3          13   Risper Ndirangu   24      f      2021-09-05  Data Science\n"
     ]
    },
    {
     "name": "stderr",
     "output_type": "stream",
     "text": [
      "C:\\Users\\Admin\\AppData\\Local\\Temp\\ipykernel_20912\\1591786750.py:4: UserWarning: pandas only supports SQLAlchemy connectable (engine/connection) or database string URI or sqlite3 DBAPI2 connection. Other DBAPI2 objects are not tested. Please consider using SQLAlchemy.\n",
      "  datascience_df = pd.read_sql_query(datascience_query , conn)\n"
     ]
    }
   ],
   "source": [
    "#query to select columns for all students pursuing Data Science\n",
    "\n",
    "datascience_query = \"SELECT * FROM students WHERE program = 'Data Science'\"\n",
    "datascience_df = pd.read_sql_query(datascience_query , conn)\n",
    "\n",
    "#view the students table\n",
    "print(datascience_df)"
   ]
  },
  {
   "cell_type": "code",
   "execution_count": 14,
   "id": "3c535661-d29c-40e6-bdb3-e32003c7144d",
   "metadata": {},
   "outputs": [
    {
     "name": "stdout",
     "output_type": "stream",
     "text": [
      "   Total Students\n",
      "0              15\n"
     ]
    },
    {
     "name": "stderr",
     "output_type": "stream",
     "text": [
      "C:\\Users\\Admin\\AppData\\Local\\Temp\\ipykernel_20912\\835772478.py:4: UserWarning: pandas only supports SQLAlchemy connectable (engine/connection) or database string URI or sqlite3 DBAPI2 connection. Other DBAPI2 objects are not tested. Please consider using SQLAlchemy.\n",
      "  students_total = pd.read_sql_query(total_query, conn)\n"
     ]
    }
   ],
   "source": [
    "# query to view the total number of students\n",
    "\n",
    "total_query = \"SELECT COUNT(student_id) AS 'Total Students' FROM students\"\n",
    "students_total = pd.read_sql_query(total_query, conn)\n",
    "\n",
    "# view th result\n",
    "print(students_total)"
   ]
  },
  {
   "cell_type": "code",
   "execution_count": 15,
   "id": "e7f210b9-79ff-43ff-9cd6-47f4a90edf8c",
   "metadata": {},
   "outputs": [
    {
     "name": "stdout",
     "output_type": "stream",
     "text": [
      "Today's Date: 2024-03-15\n"
     ]
    },
    {
     "name": "stderr",
     "output_type": "stream",
     "text": [
      "C:\\Users\\Admin\\AppData\\Local\\Temp\\ipykernel_20912\\3047059079.py:3: UserWarning: pandas only supports SQLAlchemy connectable (engine/connection) or database string URI or sqlite3 DBAPI2 connection. Other DBAPI2 objects are not tested. Please consider using SQLAlchemy.\n",
      "  current_date = pd.read_sql_query(date_query, conn)\n"
     ]
    }
   ],
   "source": [
    "# query to display the current date\n",
    "date_query = \"SELECT CURRENT_DATE() AS  \\\"Today's Date\\\" FROM students\"\n",
    "current_date = pd.read_sql_query(date_query, conn)\n",
    "\n",
    "# extract the date value from the DataFrame\n",
    "todays_date = current_date.iloc[0, 0]\n",
    "\n",
    "# print the date value\n",
    "print(\"Today's Date:\", todays_date)"
   ]
  },
  {
   "cell_type": "code",
   "execution_count": 16,
   "id": "ddbdcd1c-700d-4cb2-9f34-c429afeeb751",
   "metadata": {},
   "outputs": [
    {
     "name": "stdout",
     "output_type": "stream",
     "text": [
      "        student_name enrollment_date\n",
      "0        JOY KARIUKI      2023-11-12\n",
      "1        JANE KIMANI      2022-09-05\n",
      "2   ALEXANDER MUTISO      2023-10-10\n",
      "3      EMILY MUTHONI      2022-03-20\n",
      "4     MICHAEL KIMANI      2023-05-08\n",
      "5      SARAH WANJIKU      2022-07-12\n",
      "6        DAVID MUEKE      2023-02-28\n",
      "7      GRACE OCHIENG      2021-11-05\n",
      "8      DANIEL BARAKA      2022-04-15\n",
      "9         EMMA NJERI      2023-06-10\n",
      "10        JOY SCOVIA      2019-09-13\n",
      "11       AGNES WENDI      2019-10-06\n",
      "12   RISPER NDIRANGU      2021-09-05\n",
      "13  PATIENCE MWENDWA      2012-02-10\n",
      "14      WILLIAM RUTO      2022-08-23\n"
     ]
    },
    {
     "name": "stderr",
     "output_type": "stream",
     "text": [
      "C:\\Users\\Admin\\AppData\\Local\\Temp\\ipykernel_20912\\217777766.py:4: UserWarning: pandas only supports SQLAlchemy connectable (engine/connection) or database string URI or sqlite3 DBAPI2 connection. Other DBAPI2 objects are not tested. Please consider using SQLAlchemy.\n",
      "  enroll_dates = pd.read_sql_query(enroll_query, conn)\n"
     ]
    }
   ],
   "source": [
    "#query to select the student names and their enrolment dates with their names in uppercase\n",
    "\n",
    "enroll_query = \"SELECT UPPER(name) AS student_name, enrollment_date FROM students\"\n",
    "enroll_dates = pd.read_sql_query(enroll_query, conn)\n",
    "\n",
    "#view the result\n",
    "print(enroll_dates)"
   ]
  },
  {
   "cell_type": "code",
   "execution_count": 17,
   "id": "a542550d-60fd-4105-9bd7-a20ec7b066b0",
   "metadata": {},
   "outputs": [
    {
     "name": "stdout",
     "output_type": "stream",
     "text": [
      "                  program  Number_of_students\n",
      "0            Data Science                   4\n",
      "1        Computer Science                   2\n",
      "2                 Physics                   2\n",
      "3             Engineering                   2\n",
      "4             Mathematics                   1\n",
      "5   Financial Engineering                   1\n",
      "6              Statistics                   1\n",
      "7  Electrical Engineering                   1\n",
      "8    Taxation Engineering                   1\n"
     ]
    },
    {
     "name": "stderr",
     "output_type": "stream",
     "text": [
      "C:\\Users\\Admin\\AppData\\Local\\Temp\\ipykernel_20912\\2528317544.py:3: UserWarning: pandas only supports SQLAlchemy connectable (engine/connection) or database string URI or sqlite3 DBAPI2 connection. Other DBAPI2 objects are not tested. Please consider using SQLAlchemy.\n",
      "  program_count = pd.read_sql_query(program_query, conn)\n"
     ]
    }
   ],
   "source": [
    "## query to count the number of students in each program in descending order\n",
    "program_query = \"SELECT program, COUNT(*) AS Number_of_students FROM students GROUP BY program ORDER BY COUNT(*) DESC\"\n",
    "program_count = pd.read_sql_query(program_query, conn)\n",
    "\n",
    "#view the result\n",
    "print(program_count)"
   ]
  },
  {
   "cell_type": "code",
   "execution_count": 18,
   "id": "2fb29533-de52-4d77-9997-59eb260b156f",
   "metadata": {},
   "outputs": [
    {
     "name": "stdout",
     "output_type": "stream",
     "text": [
      "          name  age\n",
      "0  Joy Kariuki   19\n"
     ]
    },
    {
     "name": "stderr",
     "output_type": "stream",
     "text": [
      "C:\\Users\\Admin\\AppData\\Local\\Temp\\ipykernel_20912\\3356831171.py:3: UserWarning: pandas only supports SQLAlchemy connectable (engine/connection) or database string URI or sqlite3 DBAPI2 connection. Other DBAPI2 objects are not tested. Please consider using SQLAlchemy.\n",
      "  youngest_df = pd.read_sql_query(youngest_query, conn)\n"
     ]
    }
   ],
   "source": [
    "##  query to find the youngest student's name and age\n",
    "youngest_query = \" SELECT name, age FROM students ORDER BY age ASC LIMIT 1\"\n",
    "youngest_df = pd.read_sql_query(youngest_query, conn)\n",
    "\n",
    "print(youngest_df)"
   ]
  },
  {
   "cell_type": "code",
   "execution_count": null,
   "id": "14ad412f-6c4d-424e-a777-2d3d2df3d311",
   "metadata": {},
   "outputs": [],
   "source": []
  }
 ],
 "metadata": {
  "kernelspec": {
   "display_name": "Python 3 (ipykernel)",
   "language": "python",
   "name": "python3"
  },
  "language_info": {
   "codemirror_mode": {
    "name": "ipython",
    "version": 3
   },
   "file_extension": ".py",
   "mimetype": "text/x-python",
   "name": "python",
   "nbconvert_exporter": "python",
   "pygments_lexer": "ipython3",
   "version": "3.12.1"
  }
 },
 "nbformat": 4,
 "nbformat_minor": 5
}
